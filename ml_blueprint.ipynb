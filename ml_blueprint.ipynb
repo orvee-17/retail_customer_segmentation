{
 "cells": [
  {
   "cell_type": "markdown",
   "metadata": {},
   "source": [
    "# ML Model Blueprint"
   ]
  },
  {
   "cell_type": "markdown",
   "metadata": {},
   "source": [
    "<b>There are two main objectives in the given task:\n",
    "1. Customer segmentation based on browsing behaviour\n",
    "2. Target those segmented customers for effective cross selling of products</b>\n",
    "\n",
    "For this task, I want to complete both the objectives with a single algorithm. Hence, I am proposing a single unsupervised ML model that can fulfill both the objectives at the same time. As the output of the model, it will segment customers based on the two objectives, that is, their browsing behaviour and whether that customer can be a candidate for cross selling or not.\n",
    "\n",
    "Based on the features of the UCI Online Retail dataset, I feel like unsupervised ML algorithm is the way to go for customer segmentation as there is no direct labelled features to categorize the customers by. However, since I am doing the clustering based on two objectives simultaneously, the selection of features is very important. <br>\n",
    "\n",
    "<b>Why unsupervised ML algorithm?</b><br>\n",
    "In this task, the goal is unsupervised. We need to segment custom groups into some sort of structure based on their behaviour as well as identify the cross selling opportunity in the customer segments. So, as there are no clear and straight forward target labels in our dataset to segment customers based on the two aforementioned objectives, I am using unsupervised ML algorithm.\n"
   ]
  },
  {
   "cell_type": "markdown",
   "metadata": {},
   "source": [
    "# Additional Feature Engineering for ML Modeling"
   ]
  },
  {
   "cell_type": "markdown",
   "metadata": {},
   "source": [
    "The ML algorithm that I used is called K Prototype. It is an unsupervised clustering algorithm that will help to generate different customer clusters based on the features and thus perform customer segmentation based on both the customer behaviour as well as the cross selling opportunity.\n",
    "\n",
    "<b> Why use Clustering technique? </b> <br>\n",
    "In business analytics, clustering has widespread application as it helps to group observations of similar kinds into smaller groups within the larger population. One major problem every business faces is to organize huge data into meaningful insights. Clustering techniques are handy in such situation.\n",
    "\n",
    "\n",
    "\n"
   ]
  },
  {
   "cell_type": "markdown",
   "metadata": {},
   "source": [
    "### *RFMPCG - A modified RFM analysis specifically to fulfill the objectives of this task*\n",
    "\n",
    "To complete the given business objective, it is needed to segment customers based on browsing behaviour as well as identify customer segments for effective cross selling. One of the most popular, easy-to-use, and effective segmentation methods to enable marketers to analyze customer behavior is RFM analysis. The three metrics in RFM analysis are Recency, Frequency and Monetary Value. So, it is a common practice to design unsupervised ML models based on the RFM metrics for customer segmentation. <br>\n",
    "However, for the task in our hand, I want to design an integrated model that can categorize customer segments not only based on their browsing behaviour but also considering the cross selling opportunity more precisely. Moreover, both the tasks at hand are interrelated and have many common features for which idea of designing such a model is reasonable. However, for our model, only the RFM metrics are not enough to get the clarity in information and segment customers based on those two perspective.<br>\n",
    "\n",
    "For this reason, a modified RFM analysis is proposed to bring clarity into the information for effective use of this algoithm in customer segmentation. Based on the given dataset for the task and our objectives, the features chosen in addition to RFM are Geography, Product Variety and Cancelled Order. After analyzing the dataset in great detail, I found these three additional features to be complimentary for our purpose of both analyzing customer behaviour as well cross selling scopes. This analysis method is termed as RFMPCG. The feature engineering steps are performed accordingly where the use of the features are justified as well.\n"
   ]
  },
  {
   "cell_type": "code",
   "execution_count": 2,
   "metadata": {},
   "outputs": [],
   "source": [
    "import pandas as pd"
   ]
  },
  {
   "cell_type": "code",
   "execution_count": 3,
   "metadata": {},
   "outputs": [
    {
     "data": {
      "text/plain": [
       "(404780, 11)"
      ]
     },
     "execution_count": 3,
     "metadata": {},
     "output_type": "execute_result"
    }
   ],
   "source": [
    "df = pd.read_csv(\"cleaned_dataset.csv\")\n",
    "df.shape"
   ]
  },
  {
   "cell_type": "markdown",
   "metadata": {},
   "source": [
    "### *Monetary Value*\n",
    "Monetary value of the transaction helps us understand what the size of the customer's wallet is and their purchasing power. In addition, it is an important feature to analyzing both upsale and cross sale scopes as customers with higher purchase capability may avail the opportunity if we try to cross sell to them. The average amount spent by each customer is taken as the monetary value in our case."
   ]
  },
  {
   "cell_type": "code",
   "execution_count": 4,
   "metadata": {},
   "outputs": [
    {
     "data": {
      "text/html": [
       "<div>\n",
       "<style scoped>\n",
       "    .dataframe tbody tr th:only-of-type {\n",
       "        vertical-align: middle;\n",
       "    }\n",
       "\n",
       "    .dataframe tbody tr th {\n",
       "        vertical-align: top;\n",
       "    }\n",
       "\n",
       "    .dataframe thead th {\n",
       "        text-align: right;\n",
       "    }\n",
       "</style>\n",
       "<table border=\"1\" class=\"dataframe\">\n",
       "  <thead>\n",
       "    <tr style=\"text-align: right;\">\n",
       "      <th></th>\n",
       "      <th>Monetary</th>\n",
       "    </tr>\n",
       "    <tr>\n",
       "      <th>CustomerID</th>\n",
       "      <th></th>\n",
       "    </tr>\n",
       "  </thead>\n",
       "  <tbody>\n",
       "    <tr>\n",
       "      <th>12347.0</th>\n",
       "      <td>25.239670</td>\n",
       "    </tr>\n",
       "    <tr>\n",
       "      <th>12348.0</th>\n",
       "      <td>55.542222</td>\n",
       "    </tr>\n",
       "    <tr>\n",
       "      <th>12349.0</th>\n",
       "      <td>20.152083</td>\n",
       "    </tr>\n",
       "    <tr>\n",
       "      <th>12350.0</th>\n",
       "      <td>17.537500</td>\n",
       "    </tr>\n",
       "    <tr>\n",
       "      <th>12352.0</th>\n",
       "      <td>17.779405</td>\n",
       "    </tr>\n",
       "  </tbody>\n",
       "</table>\n",
       "</div>"
      ],
      "text/plain": [
       "             Monetary\n",
       "CustomerID           \n",
       "12347.0     25.239670\n",
       "12348.0     55.542222\n",
       "12349.0     20.152083\n",
       "12350.0     17.537500\n",
       "12352.0     17.779405"
      ]
     },
     "execution_count": 4,
     "metadata": {},
     "output_type": "execute_result"
    }
   ],
   "source": [
    "cus_data = df.groupby('CustomerID')[['TotalPrice']].mean() # Average amount spent\n",
    "cus_data.rename(columns={'TotalPrice':'Monetary'},inplace=True)\n",
    "cus_data.head()"
   ]
  },
  {
   "cell_type": "markdown",
   "metadata": {},
   "source": [
    "### *Frequency*\n",
    "Frequency is important as we get to know how active the customer is, which in turn partly explains the browsing behavior. Moreover, the more active and frequent a customer is, the more loyal he/she is to. The frequency is calculated from the number of Invoice count for each customer."
   ]
  },
  {
   "cell_type": "code",
   "execution_count": 5,
   "metadata": {
    "scrolled": true
   },
   "outputs": [
    {
     "data": {
      "text/html": [
       "<div>\n",
       "<style scoped>\n",
       "    .dataframe tbody tr th:only-of-type {\n",
       "        vertical-align: middle;\n",
       "    }\n",
       "\n",
       "    .dataframe tbody tr th {\n",
       "        vertical-align: top;\n",
       "    }\n",
       "\n",
       "    .dataframe thead th {\n",
       "        text-align: right;\n",
       "    }\n",
       "</style>\n",
       "<table border=\"1\" class=\"dataframe\">\n",
       "  <thead>\n",
       "    <tr style=\"text-align: right;\">\n",
       "      <th></th>\n",
       "      <th>Monetary</th>\n",
       "      <th>Frequency</th>\n",
       "    </tr>\n",
       "    <tr>\n",
       "      <th>CustomerID</th>\n",
       "      <th></th>\n",
       "      <th></th>\n",
       "    </tr>\n",
       "  </thead>\n",
       "  <tbody>\n",
       "    <tr>\n",
       "      <th>12347.0</th>\n",
       "      <td>25.239670</td>\n",
       "      <td>182</td>\n",
       "    </tr>\n",
       "    <tr>\n",
       "      <th>12348.0</th>\n",
       "      <td>55.542222</td>\n",
       "      <td>27</td>\n",
       "    </tr>\n",
       "    <tr>\n",
       "      <th>12349.0</th>\n",
       "      <td>20.152083</td>\n",
       "      <td>72</td>\n",
       "    </tr>\n",
       "    <tr>\n",
       "      <th>12350.0</th>\n",
       "      <td>17.537500</td>\n",
       "      <td>16</td>\n",
       "    </tr>\n",
       "    <tr>\n",
       "      <th>12352.0</th>\n",
       "      <td>17.779405</td>\n",
       "      <td>84</td>\n",
       "    </tr>\n",
       "  </tbody>\n",
       "</table>\n",
       "</div>"
      ],
      "text/plain": [
       "             Monetary  Frequency\n",
       "CustomerID                      \n",
       "12347.0     25.239670        182\n",
       "12348.0     55.542222         27\n",
       "12349.0     20.152083         72\n",
       "12350.0     17.537500         16\n",
       "12352.0     17.779405         84"
      ]
     },
     "execution_count": 5,
     "metadata": {},
     "output_type": "execute_result"
    }
   ],
   "source": [
    "cus_data['Frequency'] = df.groupby('CustomerID')['InvoiceNo'].count()\n",
    "cus_data.head()"
   ]
  },
  {
   "cell_type": "markdown",
   "metadata": {},
   "source": [
    "### *Recency*\n",
    "Recency of the purchase indicates whether a customer is active, dormant, or churned. Based on their browsing behaviour, the recency metric of the customers can also be inferred proving to be vital for our customer segmentation. The recency value is extracted from the InvoiceDate in the following way by substracting the date of transaction from the most recent InvoiceDate."
   ]
  },
  {
   "cell_type": "code",
   "execution_count": 6,
   "metadata": {},
   "outputs": [],
   "source": [
    "df['InvoiceDate'] = pd.to_datetime(df['InvoiceDate'])\n",
    "max_date = max(df['InvoiceDate'])\n",
    "df['diff'] = max_date - df['InvoiceDate']\n"
   ]
  },
  {
   "cell_type": "code",
   "execution_count": 7,
   "metadata": {},
   "outputs": [
    {
     "data": {
      "text/html": [
       "<div>\n",
       "<style scoped>\n",
       "    .dataframe tbody tr th:only-of-type {\n",
       "        vertical-align: middle;\n",
       "    }\n",
       "\n",
       "    .dataframe tbody tr th {\n",
       "        vertical-align: top;\n",
       "    }\n",
       "\n",
       "    .dataframe thead th {\n",
       "        text-align: right;\n",
       "    }\n",
       "</style>\n",
       "<table border=\"1\" class=\"dataframe\">\n",
       "  <thead>\n",
       "    <tr style=\"text-align: right;\">\n",
       "      <th></th>\n",
       "      <th>CustomerID</th>\n",
       "      <th>Monetary</th>\n",
       "      <th>Frequency</th>\n",
       "      <th>Recency</th>\n",
       "    </tr>\n",
       "  </thead>\n",
       "  <tbody>\n",
       "    <tr>\n",
       "      <th>0</th>\n",
       "      <td>12347.0</td>\n",
       "      <td>25.239670</td>\n",
       "      <td>182</td>\n",
       "      <td>1</td>\n",
       "    </tr>\n",
       "    <tr>\n",
       "      <th>1</th>\n",
       "      <td>12348.0</td>\n",
       "      <td>55.542222</td>\n",
       "      <td>27</td>\n",
       "      <td>74</td>\n",
       "    </tr>\n",
       "    <tr>\n",
       "      <th>2</th>\n",
       "      <td>12349.0</td>\n",
       "      <td>20.152083</td>\n",
       "      <td>72</td>\n",
       "      <td>18</td>\n",
       "    </tr>\n",
       "    <tr>\n",
       "      <th>3</th>\n",
       "      <td>12350.0</td>\n",
       "      <td>17.537500</td>\n",
       "      <td>16</td>\n",
       "      <td>309</td>\n",
       "    </tr>\n",
       "    <tr>\n",
       "      <th>4</th>\n",
       "      <td>12352.0</td>\n",
       "      <td>17.779405</td>\n",
       "      <td>84</td>\n",
       "      <td>35</td>\n",
       "    </tr>\n",
       "  </tbody>\n",
       "</table>\n",
       "</div>"
      ],
      "text/plain": [
       "   CustomerID   Monetary  Frequency  Recency\n",
       "0     12347.0  25.239670        182        1\n",
       "1     12348.0  55.542222         27       74\n",
       "2     12349.0  20.152083         72       18\n",
       "3     12350.0  17.537500         16      309\n",
       "4     12352.0  17.779405         84       35"
      ]
     },
     "execution_count": 7,
     "metadata": {},
     "output_type": "execute_result"
    }
   ],
   "source": [
    "import datetime as dt\n",
    "cus_data['Recency'] = df.groupby('CustomerID')['diff'].min().dt.days\n",
    "cus_data = cus_data.reset_index()\n",
    "cus_data.head()"
   ]
  },
  {
   "cell_type": "markdown",
   "metadata": {},
   "source": [
    "### *Product Variety*\n",
    "Product variety can help explain customers' willingness to explore. This is related to browsing behavior as well and indicates the number of products a customer seeks to buy from the store. More importantly, this is a vital feature to analyze the cross selling opportunities for the customers. This is becauses people who tend to buy variety of products can be the most suitable candidates providing they have enough money and loyalty to the business."
   ]
  },
  {
   "cell_type": "code",
   "execution_count": 8,
   "metadata": {},
   "outputs": [],
   "source": [
    "cus_data['ProductVariety']=df.groupby('CustomerID')['Description'].transform(lambda x:x.nunique())\n"
   ]
  },
  {
   "cell_type": "markdown",
   "metadata": {},
   "source": [
    "### *CancellationRate*\n",
    "From the analysis of data done earlier, I found that there is a significant amount of orders that have been cancelled. One approach could have been to drop these transactions as it did not generate any revenue for the company. However, almost all the cancelled transactions are from UK where 90% of the transactions have taken place. So, in another perspective, these cancelled transaction can help the business identify the nature of the unreliable customers. Moreover, some of these customers if targetted by proper marketing techniques may become future potential customers for the company to look for. Because of these reasons, this categorical feature is considered in our customer segmentation analysis."
   ]
  },
  {
   "cell_type": "code",
   "execution_count": 9,
   "metadata": {},
   "outputs": [],
   "source": [
    "cus_data['CancellationRate']=df.groupby('CustomerID')['CancelledOrder'].transform(lambda x:x.mode()[0])"
   ]
  },
  {
   "cell_type": "markdown",
   "metadata": {},
   "source": [
    "### *Geography*\n",
    "The customer behaviour and cross selling scopes both may vary based on geography. Moreover, there is a huge imbalance between home and international transactions in the dataset. K Prototype algorithm suffers greatly in case of data imbalance. So, it is better to segment the international customers seperately and not on the basis of UK customers. As a result, this feature is not directly considered while implementing our ML model. Based on geography, I seperated the transactions into home and abroad at first and then use the rest of the other features directly in our ML algorithm for customer segmentation.\n"
   ]
  },
  {
   "cell_type": "code",
   "execution_count": 10,
   "metadata": {},
   "outputs": [],
   "source": [
    "cus_data['Place']= df['Place']\n"
   ]
  },
  {
   "cell_type": "code",
   "execution_count": 11,
   "metadata": {},
   "outputs": [],
   "source": [
    "cus_data.to_csv('final.csv', index = False)"
   ]
  },
  {
   "cell_type": "markdown",
   "metadata": {},
   "source": [
    "# ML Model Implementation"
   ]
  },
  {
   "cell_type": "markdown",
   "metadata": {},
   "source": [
    "# K Prototype\n",
    "In K Prototype algorithm, data points are allocated to the cluster that has the most similar looking reference point. It attempts to find the dissimilarity between data points and then groups the points with less dissimilarity into a cluster. One key highlight of this algorithm is that it can be used for both numerical and categorical features in a dataset. It also works very fast.\n",
    "\n",
    "<b> Why not K Means Clustering Algorithm? </b> <br>\n",
    "KMeans Clustering is works very great when the features are only continuous variables. For example, if I only did RFM analysis, I could have used KMeans. Since I want to design an algorithm based on RFMPCG analysis, that takes account of both my objective functions, I am unable to use KMeans. Because my RFMPCG metric contains both numerical as well as categorical features. The reason is K-means uses Euclidean distance to measure the similarity of objects and there aren’t Euclidean distances between data segmented by categorical features. <br>\n",
    "\n",
    "One key highlight of K Prototype algorithm is that it can be used for both numerical and categorical features in a dataset. It also works very fast. The dissimilarity measure for numeric attributes is the square Euclidean distance whereas the similarity measure on categorical attributes is the number of matching attributes between objects and cluster prototypes. The algorithm has the following 3 steps:\n",
    "1. Initial prototype selection : I selected the Cao approach. It selects the prototypes based on the density of the data point and the dissimilarity value\n",
    "2. Initial allocation\n",
    "3. Re-allocation\n",
    "\n",
    "The initial prototype selection is done for all the data points. This keeps on repeating until there is no re-allocation of data points needed.\n",
    "\n",
    "\n",
    "\n"
   ]
  },
  {
   "cell_type": "markdown",
   "metadata": {},
   "source": [
    "***At first based on geography, the final features are seperated. It is because there is huge imbalance in the dataset in terms of geography. Most of the customers are from UK. K Prototype algorithm is hugely affected by imbalanced dataset like other clustering algorithms. To solve this issue, I am making a seperate customer segmentation for home country and another one for all the abroad countries. Moreover, this will also make the customer segmentation more precise according to our needs.*** "
   ]
  },
  {
   "cell_type": "markdown",
   "metadata": {},
   "source": [
    "### Domestic Customer Segmentation"
   ]
  },
  {
   "cell_type": "code",
   "execution_count": 12,
   "metadata": {},
   "outputs": [],
   "source": [
    "#importing necessary libraries and the dataset\n",
    "import pandas as pd, numpy as np, matplotlib.pyplot as plt, seaborn as sns\n",
    "from sklearn.preprocessing import StandardScaler\n",
    "from kmodes.kprototypes import KPrototypes\n",
    "from sklearn.metrics import silhouette_score\n",
    "import matplotlib.patches as mpatch"
   ]
  },
  {
   "cell_type": "code",
   "execution_count": 13,
   "metadata": {},
   "outputs": [
    {
     "data": {
      "text/plain": [
       "CustomerID          4160\n",
       "Monetary            4115\n",
       "Frequency            458\n",
       "Recency              347\n",
       "ProductVariety       123\n",
       "CancellationRate       2\n",
       "Place                  1\n",
       "dtype: int64"
      ]
     },
     "execution_count": 13,
     "metadata": {},
     "output_type": "execute_result"
    }
   ],
   "source": [
    "cus_data = pd.read_csv('final.csv')\n",
    "cus_data['Place']= df['Place']\n",
    "cus_data = cus_data[cus_data['Place'] == 'Home']\n",
    "cus_data.nunique()"
   ]
  },
  {
   "cell_type": "code",
   "execution_count": 14,
   "metadata": {},
   "outputs": [
    {
     "data": {
      "text/html": [
       "<div>\n",
       "<style scoped>\n",
       "    .dataframe tbody tr th:only-of-type {\n",
       "        vertical-align: middle;\n",
       "    }\n",
       "\n",
       "    .dataframe tbody tr th {\n",
       "        vertical-align: top;\n",
       "    }\n",
       "\n",
       "    .dataframe thead th {\n",
       "        text-align: right;\n",
       "    }\n",
       "</style>\n",
       "<table border=\"1\" class=\"dataframe\">\n",
       "  <thead>\n",
       "    <tr style=\"text-align: right;\">\n",
       "      <th></th>\n",
       "      <th>CustomerID</th>\n",
       "      <th>Monetary</th>\n",
       "      <th>Frequency</th>\n",
       "      <th>Recency</th>\n",
       "      <th>ProductVariety</th>\n",
       "      <th>CancellationRate</th>\n",
       "    </tr>\n",
       "  </thead>\n",
       "  <tbody>\n",
       "    <tr>\n",
       "      <th>0</th>\n",
       "      <td>12347.0</td>\n",
       "      <td>25.239670</td>\n",
       "      <td>182</td>\n",
       "      <td>1</td>\n",
       "      <td>24</td>\n",
       "      <td>0</td>\n",
       "    </tr>\n",
       "    <tr>\n",
       "      <th>1</th>\n",
       "      <td>12348.0</td>\n",
       "      <td>55.542222</td>\n",
       "      <td>27</td>\n",
       "      <td>74</td>\n",
       "      <td>24</td>\n",
       "      <td>0</td>\n",
       "    </tr>\n",
       "    <tr>\n",
       "      <th>2</th>\n",
       "      <td>12349.0</td>\n",
       "      <td>20.152083</td>\n",
       "      <td>72</td>\n",
       "      <td>18</td>\n",
       "      <td>24</td>\n",
       "      <td>0</td>\n",
       "    </tr>\n",
       "    <tr>\n",
       "      <th>3</th>\n",
       "      <td>12350.0</td>\n",
       "      <td>17.537500</td>\n",
       "      <td>16</td>\n",
       "      <td>309</td>\n",
       "      <td>24</td>\n",
       "      <td>0</td>\n",
       "    </tr>\n",
       "    <tr>\n",
       "      <th>4</th>\n",
       "      <td>12352.0</td>\n",
       "      <td>17.779405</td>\n",
       "      <td>84</td>\n",
       "      <td>35</td>\n",
       "      <td>24</td>\n",
       "      <td>0</td>\n",
       "    </tr>\n",
       "  </tbody>\n",
       "</table>\n",
       "</div>"
      ],
      "text/plain": [
       "   CustomerID   Monetary  Frequency  Recency  ProductVariety  CancellationRate\n",
       "0     12347.0  25.239670        182        1              24                 0\n",
       "1     12348.0  55.542222         27       74              24                 0\n",
       "2     12349.0  20.152083         72       18              24                 0\n",
       "3     12350.0  17.537500         16      309              24                 0\n",
       "4     12352.0  17.779405         84       35              24                 0"
      ]
     },
     "execution_count": 14,
     "metadata": {},
     "output_type": "execute_result"
    }
   ],
   "source": [
    "cus_data.drop([\"Place\"], axis = 1, inplace = True)\n",
    "cus_data.head()"
   ]
  },
  {
   "cell_type": "markdown",
   "metadata": {},
   "source": [
    "***Here, only the numerical features are scaled in order to avoid the negative effects of feature magnitudes and also speed up the process. Rest of the other preprocessing steps have been performed earlier.***"
   ]
  },
  {
   "cell_type": "code",
   "execution_count": 15,
   "metadata": {},
   "outputs": [],
   "source": [
    "Scaler = StandardScaler()\n",
    "cus_data.iloc[:,1:5] = Scaler.fit_transform(cus_data.iloc[:,1:5]) #only numerical values\n",
    "syms = cus_data.iloc[:,0].values.astype(str)\n",
    "X = cus_data.iloc[:,1:].values.astype(object)"
   ]
  },
  {
   "cell_type": "code",
   "execution_count": 253,
   "metadata": {
    "scrolled": false
   },
   "outputs": [
    {
     "data": {
      "text/plain": [
       "array([[0.0569643260137559, 1.0180629897630806, -1.3600756790338595,\n",
       "        -0.906346776626451, 0.0],\n",
       "       [1.0109586304126326, -0.40230362283996857, 0.114500079050101,\n",
       "        -0.906346776626451, 0.0],\n",
       "       [-0.07046554784352427, 0.12072525153459863, -0.7311208288472313,\n",
       "        -0.906346776626451, 0.0],\n",
       "       ...,\n",
       "       [-0.342460538426005, -0.7540733291878386, -1.040859531094062,\n",
       "        0.46670258577396884, 0.0],\n",
       "       [-1.0546140296724633, 3.528715415778481, -1.2180843360421945,\n",
       "        0.46670258577396884, 0.0],\n",
       "       [0.1461288309344717, 0.09944906135177584, -0.2970104869600315,\n",
       "        0.46670258577396884, 0.0]], dtype=object)"
      ]
     },
     "execution_count": 253,
     "metadata": {},
     "output_type": "execute_result"
    }
   ],
   "source": [
    "X"
   ]
  },
  {
   "cell_type": "markdown",
   "metadata": {},
   "source": [
    "### *Finding the optimal value for K to select no. of clusters*\n",
    "To check the optimal number of clusters, I have checked the following:\n"
   ]
  },
  {
   "cell_type": "markdown",
   "metadata": {},
   "source": [
    "1. Silhoutte Score: It is a metric used to calculate the goodness of a clustering technique. The value of this score ranges from -1 to 1.  This score is calculated using the mean intra-cluster distance and the mean nearest-cluster distance for each sample. The more positive the silhoutte score, the better the clustering. "
   ]
  },
  {
   "cell_type": "code",
   "execution_count": 16,
   "metadata": {},
   "outputs": [
    {
     "name": "stdout",
     "output_type": "stream",
     "text": [
      "number of clusters: 2\n",
      "  cost:  13222.063404332192\n",
      "  average silhouette score:  0.45709488561467077\n",
      "number of clusters: 3\n",
      "  cost:  10309.50008745059\n",
      "  average silhouette score:  0.5002906721928431\n",
      "number of clusters: 4\n",
      "  cost:  8132.789274812967\n",
      "  average silhouette score:  0.5062079255757251\n",
      "number of clusters: 5\n",
      "  cost:  6546.916731302087\n",
      "  average silhouette score:  0.5115216853672968\n",
      "number of clusters: 6\n",
      "  cost:  5489.81013362881\n",
      "  average silhouette score:  0.3542827783461176\n",
      "number of clusters: 7\n",
      "  cost:  4475.387543619727\n",
      "  average silhouette score:  0.4158600414529169\n"
     ]
    }
   ],
   "source": [
    "\n",
    "#finding the optimal cluster_number k\n",
    "for n in range(2,8):\n",
    "    kproto = KPrototypes(n_clusters = n, init = 'Cao')\n",
    "    clusters = kproto.fit_predict(X, categorical = [4])\n",
    "    silhouette = silhouette_score(X[:,:4],clusters)\n",
    "    print('number of clusters:', n)\n",
    "    print('  cost: ',kproto.cost_)\n",
    "    print('  average silhouette score: ',silhouette)"
   ]
  },
  {
   "cell_type": "markdown",
   "metadata": {},
   "source": [
    "2. Elbow Plot: The Elbow Plot is another way of finding the optimal value of clusters. The elbow plot is calculated between the cost and cluster number (k). Here, the cost is a combined similarity measure for both numeric and categorical variables calculated between the objects and the cluster prototypes as K Prototype contains both types of variables. This calculation helps to come to the optimal number of clusters."
   ]
  },
  {
   "cell_type": "code",
   "execution_count": 20,
   "metadata": {},
   "outputs": [
    {
     "data": {
      "image/png": "[encoded data removed]",
      "text/plain": [
       "<Figure size 432x288 with 1 Axes>"
      ]
     },
     "metadata": {
      "needs_background": "light"
     },
     "output_type": "display_data"
    }
   ],
   "source": [
    "cost = []\n",
    "for num_clusters in list(range(1,10)):\n",
    "    kproto = KPrototypes(n_clusters = num_clusters, init = 'Cao')\n",
    "    kproto.fit_predict(X, categorical = [4])\n",
    "    cost.append(kproto.cost_)\n",
    "    \n",
    "plt.plot(cost, marker = '8')\n",
    "plt.grid()\n",
    "plt.xlabel(\"Number of Clusters\")\n",
    "plt.xticks(np.arange(1,9,1))\n",
    "plt.show()"
   ]
  },
  {
   "cell_type": "markdown",
   "metadata": {},
   "source": [
    "Based on both these techniques, I found that clusters number 4 or 5 are suitable in our case for customer segmentation. Even though the silhoutte score for 5 clusters is the best, when running the algorithm with clusters =5, it did not give any additional insights about the data compared to running the algorithm with clusters = 4. "
   ]
  },
  {
   "cell_type": "code",
   "execution_count": 44,
   "metadata": {},
   "outputs": [
    {
     "name": "stdout",
     "output_type": "stream",
     "text": [
      "Cluster Centers:\n",
      " [[-2.32954195e-02  6.82544499e-02 -5.12318056e-01 -1.35381142e-01\n",
      "   0.00000000e+00]\n",
      " [-6.17712263e-02  3.54586493e-02 -5.73102852e-02  5.19552926e+00\n",
      "   0.00000000e+00]\n",
      " [ 7.69074555e-02 -2.89262086e-01  1.54420781e+00 -1.51144385e-01\n",
      "   0.00000000e+00]\n",
      " [-1.70355509e-01  2.73241496e+01 -8.98460677e-01  1.00308313e+00\n",
      "   0.00000000e+00]]\n"
     ]
    }
   ],
   "source": [
    "#clustering with kprototypes with k = 4\n",
    "kproto = KPrototypes(n_clusters = 4, init = 'Cao')\n",
    "clusters = kproto.fit_predict(X, categorical = [4])\n",
    "print('Cluster Centers:\\n', kproto.cluster_centroids_)"
   ]
  },
  {
   "cell_type": "code",
   "execution_count": 35,
   "metadata": {},
   "outputs": [
    {
     "data": {
      "text/html": [
       "<div>\n",
       "<style scoped>\n",
       "    .dataframe tbody tr th:only-of-type {\n",
       "        vertical-align: middle;\n",
       "    }\n",
       "\n",
       "    .dataframe tbody tr th {\n",
       "        vertical-align: top;\n",
       "    }\n",
       "\n",
       "    .dataframe thead th {\n",
       "        text-align: right;\n",
       "    }\n",
       "</style>\n",
       "<table border=\"1\" class=\"dataframe\">\n",
       "  <thead>\n",
       "    <tr style=\"text-align: right;\">\n",
       "      <th></th>\n",
       "      <th></th>\n",
       "      <th>Monetary</th>\n",
       "      <th>Frequency</th>\n",
       "      <th>Recency</th>\n",
       "      <th>ProductVariety</th>\n",
       "    </tr>\n",
       "    <tr>\n",
       "      <th>Cluster</th>\n",
       "      <th>CancellationRate</th>\n",
       "      <th></th>\n",
       "      <th></th>\n",
       "      <th></th>\n",
       "      <th></th>\n",
       "    </tr>\n",
       "  </thead>\n",
       "  <tbody>\n",
       "    <tr>\n",
       "      <th rowspan=\"2\" valign=\"top\">0</th>\n",
       "      <th>0.0</th>\n",
       "      <td>42.177043</td>\n",
       "      <td>27.877734</td>\n",
       "      <td>246.292247</td>\n",
       "      <td>104.079523</td>\n",
       "    </tr>\n",
       "    <tr>\n",
       "      <th>1.0</th>\n",
       "      <td>13.654493</td>\n",
       "      <td>24.600000</td>\n",
       "      <td>254.400000</td>\n",
       "      <td>5.600000</td>\n",
       "    </tr>\n",
       "    <tr>\n",
       "      <th>1</th>\n",
       "      <th>0.0</th>\n",
       "      <td>15.218044</td>\n",
       "      <td>4735.000000</td>\n",
       "      <td>0.200000</td>\n",
       "      <td>213.000000</td>\n",
       "    </tr>\n",
       "    <tr>\n",
       "      <th>2</th>\n",
       "      <th>0.0</th>\n",
       "      <td>26.489677</td>\n",
       "      <td>99.657407</td>\n",
       "      <td>84.972222</td>\n",
       "      <td>1153.962963</td>\n",
       "    </tr>\n",
       "    <tr>\n",
       "      <th rowspan=\"2\" valign=\"top\">3</th>\n",
       "      <th>0.0</th>\n",
       "      <td>30.829081</td>\n",
       "      <td>104.932759</td>\n",
       "      <td>39.254720</td>\n",
       "      <td>107.842663</td>\n",
       "    </tr>\n",
       "    <tr>\n",
       "      <th>1.0</th>\n",
       "      <td>28.434204</td>\n",
       "      <td>150.176471</td>\n",
       "      <td>43.764706</td>\n",
       "      <td>7.529412</td>\n",
       "    </tr>\n",
       "  </tbody>\n",
       "</table>\n",
       "</div>"
      ],
      "text/plain": [
       "                           Monetary    Frequency     Recency  ProductVariety\n",
       "Cluster CancellationRate                                                    \n",
       "0       0.0               42.177043    27.877734  246.292247      104.079523\n",
       "        1.0               13.654493    24.600000  254.400000        5.600000\n",
       "1       0.0               15.218044  4735.000000    0.200000      213.000000\n",
       "2       0.0               26.489677    99.657407   84.972222     1153.962963\n",
       "3       0.0               30.829081   104.932759   39.254720      107.842663\n",
       "        1.0               28.434204   150.176471   43.764706        7.529412"
      ]
     },
     "execution_count": 35,
     "metadata": {},
     "output_type": "execute_result"
    }
   ],
   "source": [
    "#scaling back to original values and retrieving all attributes\n",
    "Clustered = pd.DataFrame(data=Scaler.inverse_transform(cus_data.iloc[:,1:5]),columns=['Monetary', 'Frequency', 'Recency', 'ProductVariety'])\n",
    "#Clustered['Place'] = X[:,4]\n",
    "Clustered['CancellationRate'] = X[:,4]\n",
    "Clustered['CustomerID'] = syms\n",
    "Clustered['Cluster'] = clusters\n",
    "Clustered.groupby(['Cluster', 'CancellationRate']).count()['Frequency']\n",
    "Clustered.groupby(['Cluster', 'CancellationRate']).mean()"
   ]
  },
  {
   "cell_type": "code",
   "execution_count": 36,
   "metadata": {
    "scrolled": true
   },
   "outputs": [
    {
     "data": {
      "text/plain": [
       "Cluster  CancellationRate\n",
       "0        0.0                 1006\n",
       "         1.0                    5\n",
       "1        0.0                    5\n",
       "2        0.0                  108\n",
       "3        0.0                 3019\n",
       "         1.0                   17\n",
       "Name: Frequency, dtype: int64"
      ]
     },
     "execution_count": 36,
     "metadata": {},
     "output_type": "execute_result"
    }
   ],
   "source": [
    "Clustered.groupby(['Cluster', 'CancellationRate']).count()['Frequency']\n"
   ]
  },
  {
   "cell_type": "code",
   "execution_count": 24,
   "metadata": {},
   "outputs": [
    {
     "data": {
      "text/html": [
       "<div>\n",
       "<style scoped>\n",
       "    .dataframe tbody tr th:only-of-type {\n",
       "        vertical-align: middle;\n",
       "    }\n",
       "\n",
       "    .dataframe tbody tr th {\n",
       "        vertical-align: top;\n",
       "    }\n",
       "\n",
       "    .dataframe thead th {\n",
       "        text-align: right;\n",
       "    }\n",
       "</style>\n",
       "<table border=\"1\" class=\"dataframe\">\n",
       "  <thead>\n",
       "    <tr style=\"text-align: right;\">\n",
       "      <th></th>\n",
       "      <th>Monetary</th>\n",
       "      <th>Frequency</th>\n",
       "      <th>Recency</th>\n",
       "      <th>ProductVariety</th>\n",
       "      <th>CancellationRate</th>\n",
       "      <th>CustomerID</th>\n",
       "      <th>Cluster</th>\n",
       "    </tr>\n",
       "  </thead>\n",
       "  <tbody>\n",
       "    <tr>\n",
       "      <th>4060</th>\n",
       "      <td>12.986652</td>\n",
       "      <td>221.0</td>\n",
       "      <td>12.0</td>\n",
       "      <td>166.0</td>\n",
       "      <td>0</td>\n",
       "      <td>18145.0</td>\n",
       "      <td>0</td>\n",
       "    </tr>\n",
       "    <tr>\n",
       "      <th>4061</th>\n",
       "      <td>16.035000</td>\n",
       "      <td>10.0</td>\n",
       "      <td>140.0</td>\n",
       "      <td>166.0</td>\n",
       "      <td>0</td>\n",
       "      <td>18146.0</td>\n",
       "      <td>3</td>\n",
       "    </tr>\n",
       "    <tr>\n",
       "      <th>4062</th>\n",
       "      <td>25.277143</td>\n",
       "      <td>7.0</td>\n",
       "      <td>45.0</td>\n",
       "      <td>166.0</td>\n",
       "      <td>0</td>\n",
       "      <td>18147.0</td>\n",
       "      <td>0</td>\n",
       "    </tr>\n",
       "    <tr>\n",
       "      <th>4063</th>\n",
       "      <td>38.255000</td>\n",
       "      <td>16.0</td>\n",
       "      <td>50.0</td>\n",
       "      <td>166.0</td>\n",
       "      <td>0</td>\n",
       "      <td>18149.0</td>\n",
       "      <td>0</td>\n",
       "    </tr>\n",
       "    <tr>\n",
       "      <th>4064</th>\n",
       "      <td>15.312973</td>\n",
       "      <td>37.0</td>\n",
       "      <td>31.0</td>\n",
       "      <td>166.0</td>\n",
       "      <td>0</td>\n",
       "      <td>18150.0</td>\n",
       "      <td>0</td>\n",
       "    </tr>\n",
       "    <tr>\n",
       "      <th>...</th>\n",
       "      <td>...</td>\n",
       "      <td>...</td>\n",
       "      <td>...</td>\n",
       "      <td>...</td>\n",
       "      <td>...</td>\n",
       "      <td>...</td>\n",
       "      <td>...</td>\n",
       "    </tr>\n",
       "    <tr>\n",
       "      <th>4155</th>\n",
       "      <td>18.075000</td>\n",
       "      <td>10.0</td>\n",
       "      <td>277.0</td>\n",
       "      <td>162.0</td>\n",
       "      <td>0</td>\n",
       "      <td>18280.0</td>\n",
       "      <td>3</td>\n",
       "    </tr>\n",
       "    <tr>\n",
       "      <th>4156</th>\n",
       "      <td>11.545714</td>\n",
       "      <td>7.0</td>\n",
       "      <td>180.0</td>\n",
       "      <td>162.0</td>\n",
       "      <td>0</td>\n",
       "      <td>18281.0</td>\n",
       "      <td>3</td>\n",
       "    </tr>\n",
       "    <tr>\n",
       "      <th>4157</th>\n",
       "      <td>11.850769</td>\n",
       "      <td>13.0</td>\n",
       "      <td>7.0</td>\n",
       "      <td>162.0</td>\n",
       "      <td>0</td>\n",
       "      <td>18282.0</td>\n",
       "      <td>0</td>\n",
       "    </tr>\n",
       "    <tr>\n",
       "      <th>4158</th>\n",
       "      <td>2.757109</td>\n",
       "      <td>754.0</td>\n",
       "      <td>3.0</td>\n",
       "      <td>162.0</td>\n",
       "      <td>0</td>\n",
       "      <td>18283.0</td>\n",
       "      <td>0</td>\n",
       "    </tr>\n",
       "    <tr>\n",
       "      <th>4159</th>\n",
       "      <td>27.134857</td>\n",
       "      <td>70.0</td>\n",
       "      <td>42.0</td>\n",
       "      <td>162.0</td>\n",
       "      <td>0</td>\n",
       "      <td>18287.0</td>\n",
       "      <td>0</td>\n",
       "    </tr>\n",
       "  </tbody>\n",
       "</table>\n",
       "<p>100 rows × 7 columns</p>\n",
       "</div>"
      ],
      "text/plain": [
       "       Monetary  Frequency  Recency  ProductVariety CancellationRate  \\\n",
       "4060  12.986652      221.0     12.0           166.0                0   \n",
       "4061  16.035000       10.0    140.0           166.0                0   \n",
       "4062  25.277143        7.0     45.0           166.0                0   \n",
       "4063  38.255000       16.0     50.0           166.0                0   \n",
       "4064  15.312973       37.0     31.0           166.0                0   \n",
       "...         ...        ...      ...             ...              ...   \n",
       "4155  18.075000       10.0    277.0           162.0                0   \n",
       "4156  11.545714        7.0    180.0           162.0                0   \n",
       "4157  11.850769       13.0      7.0           162.0                0   \n",
       "4158   2.757109      754.0      3.0           162.0                0   \n",
       "4159  27.134857       70.0     42.0           162.0                0   \n",
       "\n",
       "     CustomerID  Cluster  \n",
       "4060    18145.0        0  \n",
       "4061    18146.0        3  \n",
       "4062    18147.0        0  \n",
       "4063    18149.0        0  \n",
       "4064    18150.0        0  \n",
       "...         ...      ...  \n",
       "4155    18280.0        3  \n",
       "4156    18281.0        3  \n",
       "4157    18282.0        0  \n",
       "4158    18283.0        0  \n",
       "4159    18287.0        0  \n",
       "\n",
       "[100 rows x 7 columns]"
      ]
     },
     "execution_count": 24,
     "metadata": {},
     "output_type": "execute_result"
    }
   ],
   "source": [
    "Clustered.tail(100)"
   ]
  },
  {
   "cell_type": "markdown",
   "metadata": {},
   "source": [
    "# *Model Evaluation & Remarks*"
   ]
  },
  {
   "cell_type": "code",
   "execution_count": 37,
   "metadata": {
    "scrolled": false
   },
   "outputs": [
    {
     "data": {
      "image/png": "[encoded data removed]",
      "text/plain": [
       "<Figure size 763.5x720 with 20 Axes>"
      ]
     },
     "metadata": {
      "needs_background": "light"
     },
     "output_type": "display_data"
    }
   ],
   "source": [
    "#comparison plots\n",
    "sns.pairplot(Clustered.drop(columns=['CancellationRate','CustomerID']), hue='Cluster')\n",
    "plt.suptitle('Scatter Matrix Within Clusters', fontsize = 15, y = 1.05)\n",
    "plt.show()"
   ]
  },
  {
   "cell_type": "markdown",
   "metadata": {},
   "source": [
    "K Prototype algorithms are usually evaluated based on elbow plot and silhoutte scores. The silhoutte score helps to decide the goodness of the clustering. Based on values suggested by elbow plot and silhoutte score and as well as running simulations for different number of clusters, I found that clusters equal to 4 or 5 are suitable in our case for customer segmentation. Even though the silhoutte score for 5 clusters is the best, when running the algorithm with clusters =5, it did not give any additional insights about the data compared to running the algorithm with clusters = 4. However, running with clusters = 4 helped to identify some outlier customers that were not identified with cluster = 3. So, the resulting conclusion is that for domestic customers, we will seperate customers into 4 categories keeping in mind both their behaviour and cross selling opportunity."
   ]
  },
  {
   "cell_type": "markdown",
   "metadata": {},
   "source": [
    "# Analysis of Domestic Customer Segments"
   ]
  },
  {
   "cell_type": "markdown",
   "metadata": {},
   "source": [
    "![<caption>](c.JPG)\n"
   ]
  },
  {
   "cell_type": "markdown",
   "metadata": {},
   "source": [
    "# Same Steps Repeated for International Customers"
   ]
  },
  {
   "cell_type": "markdown",
   "metadata": {},
   "source": [
    "### International Customer Segmentation"
   ]
  },
  {
   "cell_type": "markdown",
   "metadata": {},
   "source": [
    "***Another segmentation is performed only for international customers other than UK***"
   ]
  },
  {
   "cell_type": "code",
   "execution_count": 51,
   "metadata": {
    "scrolled": false
   },
   "outputs": [
    {
     "data": {
      "text/plain": [
       "CustomerID          196\n",
       "Monetary            196\n",
       "Frequency           115\n",
       "Recency             116\n",
       "ProductVariety       14\n",
       "CancellationRate      1\n",
       "Place                 1\n",
       "dtype: int64"
      ]
     },
     "execution_count": 51,
     "metadata": {},
     "output_type": "execute_result"
    }
   ],
   "source": [
    "#cus_data['Place']= df['Place']\n",
    "cus_data = pd.read_csv('final.csv')\n",
    "cus_data['Place']= df['Place']\n",
    "\n",
    "cus_data = cus_data[cus_data['Place'] == 'Abroad']\n",
    "cus_data.nunique()"
   ]
  },
  {
   "cell_type": "code",
   "execution_count": 52,
   "metadata": {},
   "outputs": [
    {
     "data": {
      "text/html": [
       "<div>\n",
       "<style scoped>\n",
       "    .dataframe tbody tr th:only-of-type {\n",
       "        vertical-align: middle;\n",
       "    }\n",
       "\n",
       "    .dataframe tbody tr th {\n",
       "        vertical-align: top;\n",
       "    }\n",
       "\n",
       "    .dataframe thead th {\n",
       "        text-align: right;\n",
       "    }\n",
       "</style>\n",
       "<table border=\"1\" class=\"dataframe\">\n",
       "  <thead>\n",
       "    <tr style=\"text-align: right;\">\n",
       "      <th></th>\n",
       "      <th>CustomerID</th>\n",
       "      <th>Monetary</th>\n",
       "      <th>Frequency</th>\n",
       "      <th>Recency</th>\n",
       "      <th>ProductVariety</th>\n",
       "      <th>CancellationRate</th>\n",
       "      <th>Place</th>\n",
       "    </tr>\n",
       "  </thead>\n",
       "  <tbody>\n",
       "    <tr>\n",
       "      <th>26</th>\n",
       "      <td>12378.0</td>\n",
       "      <td>18.316256</td>\n",
       "      <td>219</td>\n",
       "      <td>129</td>\n",
       "      <td>114</td>\n",
       "      <td>0</td>\n",
       "      <td>Abroad</td>\n",
       "    </tr>\n",
       "    <tr>\n",
       "      <th>27</th>\n",
       "      <td>12379.0</td>\n",
       "      <td>20.471538</td>\n",
       "      <td>39</td>\n",
       "      <td>81</td>\n",
       "      <td>114</td>\n",
       "      <td>0</td>\n",
       "      <td>Abroad</td>\n",
       "    </tr>\n",
       "    <tr>\n",
       "      <th>28</th>\n",
       "      <td>12380.0</td>\n",
       "      <td>25.055842</td>\n",
       "      <td>101</td>\n",
       "      <td>21</td>\n",
       "      <td>114</td>\n",
       "      <td>0</td>\n",
       "      <td>Abroad</td>\n",
       "    </tr>\n",
       "    <tr>\n",
       "      <th>29</th>\n",
       "      <td>12381.0</td>\n",
       "      <td>17.657674</td>\n",
       "      <td>86</td>\n",
       "      <td>4</td>\n",
       "      <td>114</td>\n",
       "      <td>0</td>\n",
       "      <td>Abroad</td>\n",
       "    </tr>\n",
       "    <tr>\n",
       "      <th>30</th>\n",
       "      <td>12383.0</td>\n",
       "      <td>17.442632</td>\n",
       "      <td>95</td>\n",
       "      <td>184</td>\n",
       "      <td>114</td>\n",
       "      <td>0</td>\n",
       "      <td>Abroad</td>\n",
       "    </tr>\n",
       "  </tbody>\n",
       "</table>\n",
       "</div>"
      ],
      "text/plain": [
       "    CustomerID   Monetary  Frequency  Recency  ProductVariety  \\\n",
       "26     12378.0  18.316256        219      129             114   \n",
       "27     12379.0  20.471538         39       81             114   \n",
       "28     12380.0  25.055842        101       21             114   \n",
       "29     12381.0  17.657674         86        4             114   \n",
       "30     12383.0  17.442632         95      184             114   \n",
       "\n",
       "    CancellationRate   Place  \n",
       "26                 0  Abroad  \n",
       "27                 0  Abroad  \n",
       "28                 0  Abroad  \n",
       "29                 0  Abroad  \n",
       "30                 0  Abroad  "
      ]
     },
     "execution_count": 52,
     "metadata": {},
     "output_type": "execute_result"
    }
   ],
   "source": [
    "cus_data.head()"
   ]
  },
  {
   "cell_type": "code",
   "execution_count": 53,
   "metadata": {},
   "outputs": [],
   "source": [
    "cus_data.drop(\"Place\", axis = 1, inplace = True)"
   ]
  },
  {
   "cell_type": "markdown",
   "metadata": {},
   "source": [
    "***Rest of the steps are as like before. Numerical features are scaled and silhoutte coefficients are obtained***"
   ]
  },
  {
   "cell_type": "code",
   "execution_count": 54,
   "metadata": {},
   "outputs": [
    {
     "name": "stdout",
     "output_type": "stream",
     "text": [
      "number of clusters: 2\n",
      "  cost:  593.1904384864591\n",
      "  average silhouette score:  0.5582841929577947\n",
      "number of clusters: 3\n",
      "  cost:  430.6639377225505\n",
      "  average silhouette score:  0.573641612545377\n",
      "number of clusters: 4\n",
      "  cost:  296.0035825555282\n",
      "  average silhouette score:  0.5273865503521059\n",
      "number of clusters: 5\n",
      "  cost:  151.791861392701\n",
      "  average silhouette score:  0.5648509914842175\n",
      "number of clusters: 6\n",
      "  cost:  129.09175703825656\n",
      "  average silhouette score:  0.5316094644608413\n",
      "number of clusters: 7\n",
      "  cost:  107.38376704329593\n",
      "  average silhouette score:  0.5392957677780632\n"
     ]
    }
   ],
   "source": [
    "#scaling the numerical features for clustering\n",
    "Scaler = StandardScaler()\n",
    "cus_data.iloc[:,1:5] = Scaler.fit_transform(cus_data.iloc[:,1:5]) #only numerical values\n",
    "syms = cus_data.iloc[:,0].values.astype(str)\n",
    "X = cus_data.iloc[:,1:].values.astype(object)\n",
    "\n",
    "\n",
    "\n",
    "#finding the optimal cluster_number k\n",
    "for n in range(2,8):\n",
    "    kproto = KPrototypes(n_clusters = n, init = 'Cao')\n",
    "    clusters = kproto.fit_predict(X, categorical = [4])\n",
    "    silhouette = silhouette_score(X[:,:4],clusters)\n",
    "    print('number of clusters:', n)\n",
    "    print('  cost: ',kproto.cost_)\n",
    "    print('  average silhouette score: ',silhouette)"
   ]
  },
  {
   "cell_type": "markdown",
   "metadata": {},
   "source": [
    "***Elbow Plot***"
   ]
  },
  {
   "cell_type": "code",
   "execution_count": 55,
   "metadata": {},
   "outputs": [
    {
     "data": {
      "image/png": "[encoded data removed]",
      "text/plain": [
       "<Figure size 432x288 with 1 Axes>"
      ]
     },
     "metadata": {
      "needs_background": "light"
     },
     "output_type": "display_data"
    }
   ],
   "source": [
    "cost = []\n",
    "for num_clusters in list(range(1,7)):\n",
    "    kproto = KPrototypes(n_clusters = num_clusters, init = 'Cao')\n",
    "    kproto.fit_predict(cus_data, categorical = [4])\n",
    "    cost.append(kproto.cost_)\n",
    "    \n",
    "plt.plot(cost, marker = '8')\n",
    "plt.grid()\n",
    "plt.xlabel(\"Number of Clusters\")\n",
    "plt.xticks(np.arange(1,9,1))\n",
    "plt.show()"
   ]
  },
  {
   "cell_type": "code",
   "execution_count": 67,
   "metadata": {},
   "outputs": [
    {
     "name": "stdout",
     "output_type": "stream",
     "text": [
      "Cluster Centers:\n",
      " [[ 0.01969023  0.01511732 -0.03944968 -0.33859956  0.        ]\n",
      " [-0.16408526 -0.1259777   0.32874731  2.82166303  0.        ]]\n"
     ]
    }
   ],
   "source": [
    "#clustering with kprototypes with k = 2\n",
    "kproto = KPrototypes(n_clusters = 2, init = 'Cao')\n",
    "clusters = kproto.fit_predict(X, categorical = [4])\n",
    "print('Cluster Centers:\\n', kproto.cluster_centroids_)"
   ]
  },
  {
   "cell_type": "code",
   "execution_count": 57,
   "metadata": {},
   "outputs": [
    {
     "data": {
      "text/html": [
       "<div>\n",
       "<style scoped>\n",
       "    .dataframe tbody tr th:only-of-type {\n",
       "        vertical-align: middle;\n",
       "    }\n",
       "\n",
       "    .dataframe tbody tr th {\n",
       "        vertical-align: top;\n",
       "    }\n",
       "\n",
       "    .dataframe thead th {\n",
       "        text-align: right;\n",
       "    }\n",
       "</style>\n",
       "<table border=\"1\" class=\"dataframe\">\n",
       "  <thead>\n",
       "    <tr style=\"text-align: right;\">\n",
       "      <th></th>\n",
       "      <th></th>\n",
       "      <th>Monetary</th>\n",
       "      <th>Frequency</th>\n",
       "      <th>Recency</th>\n",
       "      <th>ProductVariety</th>\n",
       "    </tr>\n",
       "    <tr>\n",
       "      <th>Cluster</th>\n",
       "      <th>CancellationRate</th>\n",
       "      <th></th>\n",
       "      <th></th>\n",
       "      <th></th>\n",
       "      <th></th>\n",
       "    </tr>\n",
       "  </thead>\n",
       "  <tbody>\n",
       "    <tr>\n",
       "      <th>0</th>\n",
       "      <th>0.0</th>\n",
       "      <td>25.472935</td>\n",
       "      <td>295.590909</td>\n",
       "      <td>126.545455</td>\n",
       "      <td>1717.636364</td>\n",
       "    </tr>\n",
       "    <tr>\n",
       "      <th>1</th>\n",
       "      <th>0.0</th>\n",
       "      <td>41.389356</td>\n",
       "      <td>93.827586</td>\n",
       "      <td>94.517241</td>\n",
       "      <td>165.626437</td>\n",
       "    </tr>\n",
       "  </tbody>\n",
       "</table>\n",
       "</div>"
      ],
      "text/plain": [
       "                           Monetary   Frequency     Recency  ProductVariety\n",
       "Cluster CancellationRate                                                   \n",
       "0       0.0               25.472935  295.590909  126.545455     1717.636364\n",
       "1       0.0               41.389356   93.827586   94.517241      165.626437"
      ]
     },
     "execution_count": 57,
     "metadata": {},
     "output_type": "execute_result"
    }
   ],
   "source": [
    "#scaling back to original values and retrieving all attributes\n",
    "Clustered = pd.DataFrame(data=Scaler.inverse_transform(cus_data.iloc[:,1:5]),columns=['Monetary', 'Frequency', 'Recency', 'ProductVariety'])\n",
    "#Clustered['Place'] = X[:,4]\n",
    "Clustered['CancellationRate'] = X[:,4]\n",
    "Clustered['CustomerID'] = syms\n",
    "Clustered['Cluster'] = clusters\n",
    "Clustered.groupby(['Cluster', 'CancellationRate']).count()['Frequency']\n",
    "Clustered.groupby(['Cluster', 'CancellationRate']).mean()"
   ]
  },
  {
   "cell_type": "code",
   "execution_count": 59,
   "metadata": {},
   "outputs": [
    {
     "data": {
      "text/plain": [
       "Cluster  CancellationRate\n",
       "0        0.0                  22\n",
       "1        0.0                 174\n",
       "Name: Frequency, dtype: int64"
      ]
     },
     "execution_count": 59,
     "metadata": {},
     "output_type": "execute_result"
    }
   ],
   "source": [
    "Clustered.groupby(['Cluster', 'CancellationRate']).count()['Frequency']\n"
   ]
  },
  {
   "cell_type": "code",
   "execution_count": 61,
   "metadata": {},
   "outputs": [
    {
     "data": {
      "image/png": "[encoded data removed]",
      "text/plain": [
       "<Figure size 763.5x720 with 20 Axes>"
      ]
     },
     "metadata": {
      "needs_background": "light"
     },
     "output_type": "display_data"
    }
   ],
   "source": [
    "#comparison plots\n",
    "sns.pairplot(Clustered.drop(columns=['CancellationRate','CustomerID']), hue='Cluster')\n",
    "plt.suptitle('Scatter Matrix Within Clusters', fontsize = 15, y = 1.05)\n",
    "plt.show()"
   ]
  },
  {
   "cell_type": "code",
   "execution_count": 63,
   "metadata": {},
   "outputs": [
    {
     "data": {
      "image/png": "[encoded data removed]",
      "text/plain": [
       "<Figure size 576x432 with 1 Axes>"
      ]
     },
     "metadata": {
      "needs_background": "light"
     },
     "output_type": "display_data"
    }
   ],
   "source": [
    "# Number of customers per cluster\n",
    "\n",
    "font_title = {\n",
    "        'color':  '#104C6C',\n",
    "        'weight': 'normal',\n",
    "        'size': 16,\n",
    "        }\n",
    "\n",
    "\n",
    "font_label = {\n",
    "        'color':  '#104C6C',\n",
    "        'weight': 'normal',\n",
    "        'size': 13,\n",
    "        }\n",
    "plt.figure(figsize=(8,6))\n",
    "ax = Clustered['Cluster'].value_counts().plot(kind='bar')\n",
    "ax.set_xticklabels(['Promising','Slipping','Loyal','Outliers'])\n",
    "ax.set_ylabel('Number of Customers',font_label)\n",
    "ax.set_xlabel('Clusters',font_label)\n",
    "ax.set_title(\"Customer Distribution\",font_title)\n",
    "plt.show()"
   ]
  },
  {
   "cell_type": "markdown",
   "metadata": {},
   "source": [
    "Based on silhoutte score, cluster = 3 has the best score while elbow plot suggests clusters should be equal to 1. Running simulations for different number of clusters, I found that clusters equal to 1 or 2 are appropriate. The international customer segmentation is found lacking compared to the domestic one due to the lack of international customers in the dataset. However, running simulations for clusters = 2 helped to generate a little more extra insight in terms of cross selling opportunitues for foreign customers. So, the resulting conclusion is that for international customers, we will seperate customers into 2 categories keeping in mind both their behaviour and cross selling opportunity."
   ]
  },
  {
   "cell_type": "markdown",
   "metadata": {},
   "source": [
    "# Analysis of International Customer Segments"
   ]
  },
  {
   "cell_type": "markdown",
   "metadata": {},
   "source": [
    "![<caption>](d.jpg)\n"
   ]
  },
  {
   "cell_type": "code",
   "execution_count": null,
   "metadata": {},
   "outputs": [],
   "source": []
  }
 ],
 "metadata": {
  "kernelspec": {
   "display_name": "Python 3",
   "language": "python",
   "name": "python3"
  },
  "language_info": {
   "codemirror_mode": {
    "name": "ipython",
    "version": 3
   },
   "file_extension": ".py",
   "mimetype": "text/x-python",
   "name": "python",
   "nbconvert_exporter": "python",
   "pygments_lexer": "ipython3",
   "version": "3.7.6"
  }
 },
 "nbformat": 4,
 "nbformat_minor": 4
}
